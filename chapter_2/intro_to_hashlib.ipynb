{
 "cells": [
  {
   "cell_type": "code",
   "execution_count": 1,
   "metadata": {},
   "outputs": [
    {
     "data": {
      "text/plain": [
       "'d41d8cd98f00b204e9800998ecf8427e'"
      ]
     },
     "execution_count": 1,
     "metadata": {},
     "output_type": "execute_result"
    }
   ],
   "source": [
    "import hashlib\n",
    "\n",
    "md5Hasher = hashlib.md5()\n",
    "\n",
    "md5Hasher.hexdigest()"
   ]
  },
  {
   "cell_type": "code",
   "execution_count": 4,
   "metadata": {},
   "outputs": [
    {
     "data": {
      "text/plain": [
       "'6384e2b2184bcbf58eccf10ca7a6563c'"
      ]
     },
     "execution_count": 4,
     "metadata": {},
     "output_type": "execute_result"
    }
   ],
   "source": [
    "hashlib.md5(b'alice').hexdigest()\n"
   ]
  },
  {
   "cell_type": "code",
   "execution_count": 5,
   "metadata": {},
   "outputs": [
    {
     "data": {
      "text/plain": [
       "'9f9d51bc70ef21ca5c14f307980a29d8'"
      ]
     },
     "execution_count": 5,
     "metadata": {},
     "output_type": "execute_result"
    }
   ],
   "source": [
    "hashlib.md5(b'bob').hexdigest()"
   ]
  },
  {
   "cell_type": "code",
   "execution_count": 7,
   "metadata": {},
   "outputs": [
    {
     "name": "stdout",
     "output_type": "stream",
     "text": [
      "['6384e2b2184bcbf58eccf10ca7a6563c', '9f9d51bc70ef21ca5c14f307980a29d8', '6760742ebf884c998752b4e082b78224', '386685f06beecb9f35db2e22da429ec9', '0cc175b9c0f1b6a831c399e269772661', '4124bc0a9335c27f086f24ba207a4912', 'e09c80c42fda55f9d992e59ca6b3307d', '1af6d6f2f682f76f80e606aeaaee1680']\n"
     ]
    }
   ],
   "source": [
    "# Exercise 2.1 Welcome to MD5\n",
    "list_of_words = [b'alice', b'bob', b'balice', b'cob', b'a', b'aa', b'aaaaaaaaaa', b'a'*100000]\n",
    "list_of_encrypted_words = []\n",
    "for i in list_of_words:\n",
    "    list_of_encrypted_words.append(hashlib.md5(i).hexdigest())\n",
    "print(list_of_encrypted_words)"
   ]
  },
  {
   "cell_type": "code",
   "execution_count": 11,
   "metadata": {},
   "outputs": [
    {
     "data": {
      "text/plain": [
       "True"
      ]
     },
     "execution_count": 11,
     "metadata": {},
     "output_type": "execute_result"
    }
   ],
   "source": [
    "md5Hasher = hashlib.md5()\n",
    "md5Hasher.update(b'a')\n",
    "md5Hasher.update(b'l')\n",
    "md5Hasher.update(b'i')\n",
    "md5Hasher.update(b'c')\n",
    "md5Hasher.update(b'e')\n",
    "\n",
    "# the update method equals the summation of string\n",
    "md5Hasher.hexdigest() == hashlib.md5(b'alice').hexdigest()"
   ]
  },
  {
   "cell_type": "code",
   "execution_count": 13,
   "metadata": {},
   "outputs": [
    {
     "data": {
      "text/plain": [
       "'9f9d51bc70ef21ca5c14f307980a29d8'"
      ]
     },
     "execution_count": 13,
     "metadata": {},
     "output_type": "execute_result"
    }
   ],
   "source": [
    "# Avalanche\n",
    "hexString = hashlib.md5(b'bob').hexdigest()\n",
    "hexString"
   ]
  },
  {
   "cell_type": "code",
   "execution_count": 14,
   "metadata": {},
   "outputs": [
    {
     "name": "stdout",
     "output_type": "stream",
     "text": [
      "1001111110011101010100011011110001110000111011110010000111001010\n",
      "0101110000010100111100110000011110011000000010100010100111011000\n"
     ]
    }
   ],
   "source": [
    "binString = bin(int(hexString, 16))\n",
    "print(f\"{binString[2:66]}\\n{binString[66:]}\")"
   ]
  },
  {
   "cell_type": "code",
   "execution_count": 21,
   "metadata": {},
   "outputs": [
    {
     "name": "stdout",
     "output_type": "stream",
     "text": [
      "word \t\t Encryption: \t\t\t Binary representation of encryption\n",
      "b'bob':9f9d51bc70ef21ca5c14f307980a29d8: 0b10011111100111010101000110111100011100001110111100100001110010100101110000010100111100110000011110011000000010100010100111011000 : 29\n",
      "b'balice':6760742ebf884c998752b4e082b78224: 0b1100111011000000111010000101110101111111000100001001100100110011000011101010010101101001110000010000010101101111000001000100100 : 32\n",
      "b'cob':386685f06beecb9f35db2e22da429ec9: 0b111000011001101000010111110000011010111110111011001011100111110011010111011011001011100010001011011010010000101001111011001001 : 30\n",
      "b'a':0cc175b9c0f1b6a831c399e269772661: 0b1100110000010111010110111001110000001111000110110110101010000011000111000011100110011110001001101001011101110010011001100001 : 29\n",
      "b'aa':4124bc0a9335c27f086f24ba207a4912: 0b1000001001001001011110000001010100100110011010111000010011111110000100001101111001001001011101000100000011110100100100100010010 : 31\n",
      "b'aaaaaaaaaa':e09c80c42fda55f9d992e59ca6b3307d: 0b11100000100111001000000011000100001011111101101001010101111110011101100110010010111001011001110010100110101100110011000001111101 : 32\n"
     ]
    }
   ],
   "source": [
    "# Exercise 2.3: Observing avalanche\n",
    "\n",
    "def calculateAvalance(a : str, b: str):\n",
    "    count = 0\n",
    "    for i in range(len(a)):\n",
    "        if(a[i] != b[i]):\n",
    "            count+=1\n",
    "    return count\n",
    "\n",
    "observing_avalanche = {}\n",
    "print(f\"word \\t\\t Encryption: \\t\\t\\t Binary representation of encryption\")\n",
    "for i in range(1,len(list_of_words)-1):\n",
    "    print(f\"{list_of_words[i]}:{list_of_encrypted_words[i]}: {bin(int(list_of_encrypted_words[i], 16))} : {calculateAvalance(list_of_encrypted_words[i], list_of_encrypted_words[i-1])}\")\n"
   ]
  },
  {
   "cell_type": "code",
   "execution_count": 22,
   "metadata": {},
   "outputs": [
    {
     "name": "stdout",
     "output_type": "stream",
     "text": [
      "6384e2b2184bcbf58eccf10ca7a6563c\n",
      "522b276a356bdf39013dfabea2cd43e141ecc9e8\n",
      "2bd806c97f0e00af1a1fc3328fa763a9269723c8db8fac4f93af71db186d6e90\n"
     ]
    }
   ],
   "source": [
    "print(hashlib.md5(b'alice').hexdigest()) # MD5 outputs 16 byts (128 bits)\n",
    "print(hashlib.sha1(b'alice').hexdigest()) # SHA-1 output is 20 bytes (160 bits)\n",
    "print(hashlib.sha256(b'alice').hexdigest()) # SHA-256's output is 32 bytes (256 bits)"
   ]
  },
  {
   "cell_type": "code",
   "execution_count": null,
   "metadata": {},
   "outputs": [],
   "source": []
  }
 ],
 "metadata": {
  "interpreter": {
   "hash": "59959ffebd7c2b6da281e05f2d9049ecbc64f64f376674539b2b3556a24376db"
  },
  "kernelspec": {
   "display_name": "Python 3.8.10 64-bit",
   "language": "python",
   "name": "python3"
  },
  "language_info": {
   "codemirror_mode": {
    "name": "ipython",
    "version": 3
   },
   "file_extension": ".py",
   "mimetype": "text/x-python",
   "name": "python",
   "nbconvert_exporter": "python",
   "pygments_lexer": "ipython3",
   "version": "3.8.10"
  },
  "orig_nbformat": 4
 },
 "nbformat": 4,
 "nbformat_minor": 2
}
