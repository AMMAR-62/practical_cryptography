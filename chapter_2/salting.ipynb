{
 "cells": [
  {
   "cell_type": "code",
   "execution_count": 1,
   "metadata": {},
   "outputs": [
    {
     "name": "stdout",
     "output_type": "stream",
     "text": [
      "f921728624457b788fa22ac42f7999ec94b83dabd47c6e2f3ebab0e50ef8ff0a 154da08f5e46bfbc6ace\n"
     ]
    }
   ],
   "source": [
    "import os\n",
    "import hashlib\n",
    "\n",
    "password = \"mysecurepassword\"\n",
    "salt = os.urandom(10) # returns bytes\n",
    "#password based key derivation function.\n",
    "hashed_pw = hashlib.pbkdf2_hmac('sha256','password'.encode(),salt,300000)\n",
    "hexpw = hashed_pw.hex()\n",
    "hexsalt = salt.hex()\n",
    "print(hexpw,hexsalt)\n",
    "\n",
    "pw2 = bytes.fromhex(hexpw)\n",
    "salt2 = bytes.fromhex(hexsalt)\n",
    "\n",
    "assert(hashed_pw == pw2)\n",
    "assert(salt == salt2)"
   ]
  },
  {
   "cell_type": "code",
   "execution_count": 3,
   "metadata": {},
   "outputs": [],
   "source": [
    "# Scrypt Generate\n",
    "\n",
    "import os\n",
    "from cryptography.hazmat.primitives.kdf.scrypt import Scrypt\n",
    "from cryptography.hazmat.backends import default_backend\n",
    "\n",
    "salt = os.urandom(16)\n",
    "kdf = Scrypt(salt=salt, length=32, n = 2**14, r=8, p=1, backend=default_backend())\n",
    "\n",
    "key = kdf.derive(b\"my great password\")\n"
   ]
  },
  {
   "cell_type": "code",
   "execution_count": 4,
   "metadata": {},
   "outputs": [
    {
     "name": "stdout",
     "output_type": "stream",
     "text": [
      "Success! (Exception if mismatch)\n"
     ]
    }
   ],
   "source": [
    "#Scrypt Verify\n",
    "kdf = Scrypt(salt=salt, length=32, n = 2**14, r=8, p=1, backend=default_backend())\n",
    "\n",
    "kdf.verify(b\"my great password\", key)\n",
    "\n",
    "print(\"Success! (Exception if mismatch)\")"
   ]
  }
 ],
 "metadata": {
  "interpreter": {
   "hash": "59959ffebd7c2b6da281e05f2d9049ecbc64f64f376674539b2b3556a24376db"
  },
  "kernelspec": {
   "display_name": "Python 3.8.10 64-bit",
   "language": "python",
   "name": "python3"
  },
  "language_info": {
   "codemirror_mode": {
    "name": "ipython",
    "version": 3
   },
   "file_extension": ".py",
   "mimetype": "text/x-python",
   "name": "python",
   "nbconvert_exporter": "python",
   "pygments_lexer": "ipython3",
   "version": "3.8.10"
  },
  "orig_nbformat": 4
 },
 "nbformat": 4,
 "nbformat_minor": 2
}
